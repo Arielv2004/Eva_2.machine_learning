{
 "cells": [
  {
   "cell_type": "code",
   "execution_count": null,
   "id": "8827801b-20fb-4062-ac20-26b657cc7bfa",
   "metadata": {},
   "outputs": [],
   "source": []
  }
 ],
 "metadata": {
  "kernelspec": {
   "display_name": "Kedro (proyect_machine)",
   "language": "python",
   "name": "kedro_proyect_machine"
  },
  "language_info": {
   "codemirror_mode": {
    "name": "ipython",
    "version": 3
   },
   "file_extension": ".py",
   "mimetype": "text/x-python",
   "name": "python",
   "nbconvert_exporter": "python",
   "pygments_lexer": "ipython3",
   "version": "3.13.9"
  }
 },
 "nbformat": 4,
 "nbformat_minor": 5
}
