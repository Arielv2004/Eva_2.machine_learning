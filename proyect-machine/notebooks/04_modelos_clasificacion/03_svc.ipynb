{
 "cells": [
  {
   "cell_type": "code",
   "execution_count": 1,
   "id": "0335084c-2fbc-43d5-8769-f54fbb385778",
   "metadata": {},
   "outputs": [
    {
     "name": "stdout",
     "output_type": "stream",
     "text": [
      "The kedro.ipython extension is already loaded. To reload it, use:\n",
      "  %reload_ext kedro.ipython\n"
     ]
    },
    {
     "data": {
      "text/html": [
       "<pre style=\"white-space:pre;overflow-x:auto;line-height:normal;font-family:Menlo,'DejaVu Sans Mono',consolas,'Courier New',monospace\"><span style=\"color: #7fbfbf; text-decoration-color: #7fbfbf\">[10/28/25 12:50:00] </span><span style=\"color: #000080; text-decoration-color: #000080\">INFO    </span> Loading data from <span style=\"color: #ff8700; text-decoration-color: #ff8700\">movies_metadata</span> <span style=\"font-weight: bold\">(</span>CSVDataset<span style=\"font-weight: bold\">)</span><span style=\"color: #808000; text-decoration-color: #808000\">...</span>                 <a href=\"file://C:\\Users\\ariel\\OneDrive\\Desktop\\Machine\\proyect-machine\\venv\\Lib\\site-packages\\kedro\\io\\data_catalog.py\" target=\"_blank\"><span style=\"color: #7f7f7f; text-decoration-color: #7f7f7f\">data_catalog.py</span></a><span style=\"color: #7f7f7f; text-decoration-color: #7f7f7f\">:</span><a href=\"file://C:\\Users\\ariel\\OneDrive\\Desktop\\Machine\\proyect-machine\\venv\\Lib\\site-packages\\kedro\\io\\data_catalog.py#1046\" target=\"_blank\"><span style=\"color: #7f7f7f; text-decoration-color: #7f7f7f\">1046</span></a>\n",
       "</pre>\n"
      ],
      "text/plain": [
       "\u001b[2;36m[10/28/25 12:50:00]\u001b[0m\u001b[2;36m \u001b[0m\u001b[34mINFO    \u001b[0m Loading data from \u001b[38;5;208mmovies_metadata\u001b[0m \u001b[1m(\u001b[0mCSVDataset\u001b[1m)\u001b[0m\u001b[33m...\u001b[0m                 \u001b]8;id=594005;file://C:\\Users\\ariel\\OneDrive\\Desktop\\Machine\\proyect-machine\\venv\\Lib\\site-packages\\kedro\\io\\data_catalog.py\u001b\\\u001b[2mdata_catalog.py\u001b[0m\u001b]8;;\u001b\\\u001b[2m:\u001b[0m\u001b]8;id=2852;file://C:\\Users\\ariel\\OneDrive\\Desktop\\Machine\\proyect-machine\\venv\\Lib\\site-packages\\kedro\\io\\data_catalog.py#1046\u001b\\\u001b[2m1046\u001b[0m\u001b]8;;\u001b\\\n"
      ]
     },
     "metadata": {},
     "output_type": "display_data"
    },
    {
     "name": "stdout",
     "output_type": "stream",
     "text": [
      "Datos cargados correctamente\n"
     ]
    },
    {
     "data": {
      "text/html": [
       "<pre style=\"white-space:pre;overflow-x:auto;line-height:normal;font-family:Menlo,'DejaVu Sans Mono',consolas,'Courier New',monospace\"></pre>\n"
      ],
      "text/plain": []
     },
     "metadata": {},
     "output_type": "display_data"
    },
    {
     "data": {
      "text/html": [
       "<div>\n",
       "<style scoped>\n",
       "    .dataframe tbody tr th:only-of-type {\n",
       "        vertical-align: middle;\n",
       "    }\n",
       "\n",
       "    .dataframe tbody tr th {\n",
       "        vertical-align: top;\n",
       "    }\n",
       "\n",
       "    .dataframe thead th {\n",
       "        text-align: right;\n",
       "    }\n",
       "</style>\n",
       "<table border=\"1\" class=\"dataframe\">\n",
       "  <thead>\n",
       "    <tr style=\"text-align: right;\">\n",
       "      <th></th>\n",
       "      <th>adult</th>\n",
       "      <th>belongs_to_collection</th>\n",
       "      <th>budget</th>\n",
       "      <th>genres</th>\n",
       "      <th>homepage</th>\n",
       "      <th>id</th>\n",
       "      <th>imdb_id</th>\n",
       "      <th>original_language</th>\n",
       "      <th>original_title</th>\n",
       "      <th>overview</th>\n",
       "      <th>...</th>\n",
       "      <th>release_date</th>\n",
       "      <th>revenue</th>\n",
       "      <th>runtime</th>\n",
       "      <th>spoken_languages</th>\n",
       "      <th>status</th>\n",
       "      <th>tagline</th>\n",
       "      <th>title</th>\n",
       "      <th>video</th>\n",
       "      <th>vote_average</th>\n",
       "      <th>vote_count</th>\n",
       "    </tr>\n",
       "  </thead>\n",
       "  <tbody>\n",
       "    <tr>\n",
       "      <th>0</th>\n",
       "      <td>False</td>\n",
       "      <td>{'id': 10194, 'name': 'Toy Story Collection', ...</td>\n",
       "      <td>30000000</td>\n",
       "      <td>[{'id': 16, 'name': 'Animation'}, {'id': 35, '...</td>\n",
       "      <td>http://toystory.disney.com/toy-story</td>\n",
       "      <td>862</td>\n",
       "      <td>tt0114709</td>\n",
       "      <td>en</td>\n",
       "      <td>Toy Story</td>\n",
       "      <td>Led by Woody, Andy's toys live happily in his ...</td>\n",
       "      <td>...</td>\n",
       "      <td>1995-10-30</td>\n",
       "      <td>373554033.0</td>\n",
       "      <td>81.0</td>\n",
       "      <td>[{'iso_639_1': 'en', 'name': 'English'}]</td>\n",
       "      <td>Released</td>\n",
       "      <td>NaN</td>\n",
       "      <td>Toy Story</td>\n",
       "      <td>False</td>\n",
       "      <td>7.7</td>\n",
       "      <td>5415.0</td>\n",
       "    </tr>\n",
       "    <tr>\n",
       "      <th>1</th>\n",
       "      <td>False</td>\n",
       "      <td>NaN</td>\n",
       "      <td>65000000</td>\n",
       "      <td>[{'id': 12, 'name': 'Adventure'}, {'id': 14, '...</td>\n",
       "      <td>NaN</td>\n",
       "      <td>8844</td>\n",
       "      <td>tt0113497</td>\n",
       "      <td>en</td>\n",
       "      <td>Jumanji</td>\n",
       "      <td>When siblings Judy and Peter discover an encha...</td>\n",
       "      <td>...</td>\n",
       "      <td>1995-12-15</td>\n",
       "      <td>262797249.0</td>\n",
       "      <td>104.0</td>\n",
       "      <td>[{'iso_639_1': 'en', 'name': 'English'}, {'iso...</td>\n",
       "      <td>Released</td>\n",
       "      <td>Roll the dice and unleash the excitement!</td>\n",
       "      <td>Jumanji</td>\n",
       "      <td>False</td>\n",
       "      <td>6.9</td>\n",
       "      <td>2413.0</td>\n",
       "    </tr>\n",
       "    <tr>\n",
       "      <th>2</th>\n",
       "      <td>False</td>\n",
       "      <td>{'id': 119050, 'name': 'Grumpy Old Men Collect...</td>\n",
       "      <td>0</td>\n",
       "      <td>[{'id': 10749, 'name': 'Romance'}, {'id': 35, ...</td>\n",
       "      <td>NaN</td>\n",
       "      <td>15602</td>\n",
       "      <td>tt0113228</td>\n",
       "      <td>en</td>\n",
       "      <td>Grumpier Old Men</td>\n",
       "      <td>A family wedding reignites the ancient feud be...</td>\n",
       "      <td>...</td>\n",
       "      <td>1995-12-22</td>\n",
       "      <td>0.0</td>\n",
       "      <td>101.0</td>\n",
       "      <td>[{'iso_639_1': 'en', 'name': 'English'}]</td>\n",
       "      <td>Released</td>\n",
       "      <td>Still Yelling. Still Fighting. Still Ready for...</td>\n",
       "      <td>Grumpier Old Men</td>\n",
       "      <td>False</td>\n",
       "      <td>6.5</td>\n",
       "      <td>92.0</td>\n",
       "    </tr>\n",
       "    <tr>\n",
       "      <th>3</th>\n",
       "      <td>False</td>\n",
       "      <td>NaN</td>\n",
       "      <td>16000000</td>\n",
       "      <td>[{'id': 35, 'name': 'Comedy'}, {'id': 18, 'nam...</td>\n",
       "      <td>NaN</td>\n",
       "      <td>31357</td>\n",
       "      <td>tt0114885</td>\n",
       "      <td>en</td>\n",
       "      <td>Waiting to Exhale</td>\n",
       "      <td>Cheated on, mistreated and stepped on, the wom...</td>\n",
       "      <td>...</td>\n",
       "      <td>1995-12-22</td>\n",
       "      <td>81452156.0</td>\n",
       "      <td>127.0</td>\n",
       "      <td>[{'iso_639_1': 'en', 'name': 'English'}]</td>\n",
       "      <td>Released</td>\n",
       "      <td>Friends are the people who let you be yourself...</td>\n",
       "      <td>Waiting to Exhale</td>\n",
       "      <td>False</td>\n",
       "      <td>6.1</td>\n",
       "      <td>34.0</td>\n",
       "    </tr>\n",
       "    <tr>\n",
       "      <th>4</th>\n",
       "      <td>False</td>\n",
       "      <td>{'id': 96871, 'name': 'Father of the Bride Col...</td>\n",
       "      <td>0</td>\n",
       "      <td>[{'id': 35, 'name': 'Comedy'}]</td>\n",
       "      <td>NaN</td>\n",
       "      <td>11862</td>\n",
       "      <td>tt0113041</td>\n",
       "      <td>en</td>\n",
       "      <td>Father of the Bride Part II</td>\n",
       "      <td>Just when George Banks has recovered from his ...</td>\n",
       "      <td>...</td>\n",
       "      <td>1995-02-10</td>\n",
       "      <td>76578911.0</td>\n",
       "      <td>106.0</td>\n",
       "      <td>[{'iso_639_1': 'en', 'name': 'English'}]</td>\n",
       "      <td>Released</td>\n",
       "      <td>Just When His World Is Back To Normal... He's ...</td>\n",
       "      <td>Father of the Bride Part II</td>\n",
       "      <td>False</td>\n",
       "      <td>5.7</td>\n",
       "      <td>173.0</td>\n",
       "    </tr>\n",
       "  </tbody>\n",
       "</table>\n",
       "<p>5 rows × 24 columns</p>\n",
       "</div>"
      ],
      "text/plain": [
       "\n",
       "   adult                              belongs_to_collection    budget  \\\n",
       "\u001b[1;36m0\u001b[0m  \u001b[3;91mFalse\u001b[0m  \u001b[1m{\u001b[0m\u001b[32m'id'\u001b[0m: \u001b[1;36m10194\u001b[0m, \u001b[32m'name'\u001b[0m: \u001b[32m'Toy Story Collection'\u001b[0m, \u001b[33m...\u001b[0m  \u001b[1;36m30000000\u001b[0m   \n",
       "\u001b[1;36m1\u001b[0m  \u001b[3;91mFalse\u001b[0m                                                NaN  \u001b[1;36m65000000\u001b[0m   \n",
       "\u001b[1;36m2\u001b[0m  \u001b[3;91mFalse\u001b[0m  \u001b[1m{\u001b[0m\u001b[32m'id'\u001b[0m: \u001b[1;36m119050\u001b[0m, \u001b[32m'name'\u001b[0m: 'Grumpy Old Men Collect\u001b[33m...\u001b[0m         \u001b[1;36m0\u001b[0m   \n",
       "\u001b[1;36m3\u001b[0m  \u001b[3;91mFalse\u001b[0m                                                NaN  \u001b[1;36m16000000\u001b[0m   \n",
       "\u001b[1;36m4\u001b[0m  \u001b[3;91mFalse\u001b[0m  \u001b[1m{\u001b[0m\u001b[32m'id'\u001b[0m: \u001b[1;36m96871\u001b[0m, \u001b[32m'name'\u001b[0m: 'Father of the Bride Col\u001b[33m...\u001b[0m         \u001b[1;36m0\u001b[0m   \n",
       "\n",
       "                                              genres  \\\n",
       "\u001b[1;36m0\u001b[0m  \u001b[1m[\u001b[0m\u001b[1m{\u001b[0m\u001b[32m'id'\u001b[0m: \u001b[1;36m16\u001b[0m, \u001b[32m'name'\u001b[0m: \u001b[32m'Animation'\u001b[0m\u001b[1m}\u001b[0m, \u001b[1m{\u001b[0m\u001b[32m'id'\u001b[0m: \u001b[1;36m35\u001b[0m, '\u001b[33m...\u001b[0m   \n",
       "\u001b[1;36m1\u001b[0m  \u001b[1m[\u001b[0m\u001b[1m{\u001b[0m\u001b[32m'id'\u001b[0m: \u001b[1;36m12\u001b[0m, \u001b[32m'name'\u001b[0m: \u001b[32m'Adventure'\u001b[0m\u001b[1m}\u001b[0m, \u001b[1m{\u001b[0m\u001b[32m'id'\u001b[0m: \u001b[1;36m14\u001b[0m, '\u001b[33m...\u001b[0m   \n",
       "\u001b[1;36m2\u001b[0m  \u001b[1m[\u001b[0m\u001b[1m{\u001b[0m\u001b[32m'id'\u001b[0m: \u001b[1;36m10749\u001b[0m, \u001b[32m'name'\u001b[0m: \u001b[32m'Romance'\u001b[0m\u001b[1m}\u001b[0m, \u001b[1m{\u001b[0m\u001b[32m'id'\u001b[0m: \u001b[1;36m35\u001b[0m, \u001b[33m...\u001b[0m   \n",
       "\u001b[1;36m3\u001b[0m  \u001b[1m[\u001b[0m\u001b[1m{\u001b[0m\u001b[32m'id'\u001b[0m: \u001b[1;36m35\u001b[0m, \u001b[32m'name'\u001b[0m: \u001b[32m'Comedy'\u001b[0m\u001b[1m}\u001b[0m, \u001b[1m{\u001b[0m\u001b[32m'id'\u001b[0m: \u001b[1;36m18\u001b[0m, 'nam\u001b[33m...\u001b[0m   \n",
       "\u001b[1;36m4\u001b[0m                     \u001b[1m[\u001b[0m\u001b[1m{\u001b[0m\u001b[32m'id'\u001b[0m: \u001b[1;36m35\u001b[0m, \u001b[32m'name'\u001b[0m: \u001b[32m'Comedy'\u001b[0m\u001b[1m}\u001b[0m\u001b[1m]\u001b[0m   \n",
       "\n",
       "                               homepage     id    imdb_id original_language  \\\n",
       "\u001b[1;36m0\u001b[0m  \u001b[4;94mhttp://toystory.disney.com/toy-story\u001b[0m    \u001b[1;36m862\u001b[0m  tt0114709                en   \n",
       "\u001b[1;36m1\u001b[0m                                   NaN   \u001b[1;36m8844\u001b[0m  tt0113497                en   \n",
       "\u001b[1;36m2\u001b[0m                                   NaN  \u001b[1;36m15602\u001b[0m  tt0113228                en   \n",
       "\u001b[1;36m3\u001b[0m                                   NaN  \u001b[1;36m31357\u001b[0m  tt0114885                en   \n",
       "\u001b[1;36m4\u001b[0m                                   NaN  \u001b[1;36m11862\u001b[0m  tt0113041                en   \n",
       "\n",
       "                original_title  \\\n",
       "\u001b[1;36m0\u001b[0m                    Toy Story   \n",
       "\u001b[1;36m1\u001b[0m                      Jumanji   \n",
       "\u001b[1;36m2\u001b[0m             Grumpier Old Men   \n",
       "\u001b[1;36m3\u001b[0m            Waiting to Exhale   \n",
       "\u001b[1;36m4\u001b[0m  Father of the Bride Part II   \n",
       "\n",
       "                                            overview  \u001b[33m...\u001b[0m release_date  \\\n",
       "\u001b[1;36m0\u001b[0m  Led by Woody, Andy's toys live happily in his \u001b[33m...\u001b[0m  \u001b[33m...\u001b[0m   \u001b[1;36m1995\u001b[0m-\u001b[1;36m10\u001b[0m-\u001b[1;36m30\u001b[0m   \n",
       "\u001b[1;36m1\u001b[0m  When siblings Judy and Peter discover an encha\u001b[33m...\u001b[0m  \u001b[33m...\u001b[0m   \u001b[1;36m1995\u001b[0m-\u001b[1;36m12\u001b[0m-\u001b[1;36m15\u001b[0m   \n",
       "\u001b[1;36m2\u001b[0m  A family wedding reignites the ancient feud be\u001b[33m...\u001b[0m  \u001b[33m...\u001b[0m   \u001b[1;36m1995\u001b[0m-\u001b[1;36m12\u001b[0m-\u001b[1;36m22\u001b[0m   \n",
       "\u001b[1;36m3\u001b[0m  Cheated on, mistreated and stepped on, the wom\u001b[33m...\u001b[0m  \u001b[33m...\u001b[0m   \u001b[1;36m1995\u001b[0m-\u001b[1;36m12\u001b[0m-\u001b[1;36m22\u001b[0m   \n",
       "\u001b[1;36m4\u001b[0m  Just when George Banks has recovered from his \u001b[33m...\u001b[0m  \u001b[33m...\u001b[0m   \u001b[1;36m1995\u001b[0m-\u001b[1;36m02\u001b[0m-\u001b[1;36m10\u001b[0m   \n",
       "\n",
       "       revenue runtime                                   spoken_languages  \\\n",
       "\u001b[1;36m0\u001b[0m  \u001b[1;36m373554033.0\u001b[0m    \u001b[1;36m81.0\u001b[0m           \u001b[1m[\u001b[0m\u001b[1m{\u001b[0m\u001b[32m'iso_639_1'\u001b[0m: \u001b[32m'en'\u001b[0m, \u001b[32m'name'\u001b[0m: \u001b[32m'English'\u001b[0m\u001b[1m}\u001b[0m\u001b[1m]\u001b[0m   \n",
       "\u001b[1;36m1\u001b[0m  \u001b[1;36m262797249.0\u001b[0m   \u001b[1;36m104.0\u001b[0m  \u001b[1m[\u001b[0m\u001b[1m{\u001b[0m\u001b[32m'iso_639_1'\u001b[0m: \u001b[32m'en'\u001b[0m, \u001b[32m'name'\u001b[0m: \u001b[32m'English'\u001b[0m\u001b[1m}\u001b[0m, \u001b[1m{\u001b[0m'iso\u001b[33m...\u001b[0m   \n",
       "\u001b[1;36m2\u001b[0m          \u001b[1;36m0.0\u001b[0m   \u001b[1;36m101.0\u001b[0m           \u001b[1m[\u001b[0m\u001b[1m{\u001b[0m\u001b[32m'iso_639_1'\u001b[0m: \u001b[32m'en'\u001b[0m, \u001b[32m'name'\u001b[0m: \u001b[32m'English'\u001b[0m\u001b[1m}\u001b[0m\u001b[1m]\u001b[0m   \n",
       "\u001b[1;36m3\u001b[0m   \u001b[1;36m81452156.0\u001b[0m   \u001b[1;36m127.0\u001b[0m           \u001b[1m[\u001b[0m\u001b[1m{\u001b[0m\u001b[32m'iso_639_1'\u001b[0m: \u001b[32m'en'\u001b[0m, \u001b[32m'name'\u001b[0m: \u001b[32m'English'\u001b[0m\u001b[1m}\u001b[0m\u001b[1m]\u001b[0m   \n",
       "\u001b[1;36m4\u001b[0m   \u001b[1;36m76578911.0\u001b[0m   \u001b[1;36m106.0\u001b[0m           \u001b[1m[\u001b[0m\u001b[1m{\u001b[0m\u001b[32m'iso_639_1'\u001b[0m: \u001b[32m'en'\u001b[0m, \u001b[32m'name'\u001b[0m: \u001b[32m'English'\u001b[0m\u001b[1m}\u001b[0m\u001b[1m]\u001b[0m   \n",
       "\n",
       "     status                                            tagline  \\\n",
       "\u001b[1;36m0\u001b[0m  Released                                                NaN   \n",
       "\u001b[1;36m1\u001b[0m  Released          Roll the dice and unleash the excitement!   \n",
       "\u001b[1;36m2\u001b[0m  Released  Still Yelling. Still Fighting. Still Ready for\u001b[33m...\u001b[0m   \n",
       "\u001b[1;36m3\u001b[0m  Released  Friends are the people who let you be yourself\u001b[33m...\u001b[0m   \n",
       "\u001b[1;36m4\u001b[0m  Released  Just When His World Is Back To Normal\u001b[33m...\u001b[0m He's \u001b[33m...\u001b[0m   \n",
       "\n",
       "                         title  video vote_average vote_count  \n",
       "\u001b[1;36m0\u001b[0m                    Toy Story  \u001b[3;91mFalse\u001b[0m          \u001b[1;36m7.7\u001b[0m     \u001b[1;36m5415.0\u001b[0m  \n",
       "\u001b[1;36m1\u001b[0m                      Jumanji  \u001b[3;91mFalse\u001b[0m          \u001b[1;36m6.9\u001b[0m     \u001b[1;36m2413.0\u001b[0m  \n",
       "\u001b[1;36m2\u001b[0m             Grumpier Old Men  \u001b[3;91mFalse\u001b[0m          \u001b[1;36m6.5\u001b[0m       \u001b[1;36m92.0\u001b[0m  \n",
       "\u001b[1;36m3\u001b[0m            Waiting to Exhale  \u001b[3;91mFalse\u001b[0m          \u001b[1;36m6.1\u001b[0m       \u001b[1;36m34.0\u001b[0m  \n",
       "\u001b[1;36m4\u001b[0m  Father of the Bride Part II  \u001b[3;91mFalse\u001b[0m          \u001b[1;36m5.7\u001b[0m      \u001b[1;36m173.0\u001b[0m  \n",
       "\n",
       "\u001b[1m[\u001b[0m\u001b[1;36m5\u001b[0m rows x \u001b[1;36m24\u001b[0m columns\u001b[1m]\u001b[0m"
      ]
     },
     "execution_count": 1,
     "metadata": {},
     "output_type": "execute_result"
    }
   ],
   "source": [
    "# Importaciones\n",
    "import pandas as pd\n",
    "from sklearn.model_selection import train_test_split\n",
    "from sklearn.preprocessing import StandardScaler\n",
    "from sklearn.linear_model import LogisticRegression\n",
    "from sklearn.metrics import accuracy_score, classification_report, confusion_matrix, roc_curve, roc_auc_score, precision_recall_curve, average_precision_score\n",
    "import matplotlib.pyplot as plt\n",
    "import seaborn as sns\n",
    "\n",
    "# Si estás usando Kedro en el notebook\n",
    "%load_ext kedro.ipython\n",
    "\n",
    "# Cargar dataset\n",
    "movies_metadata = catalog.load(\"movies_metadata\")\n",
    "print(\"Datos cargados correctamente\")\n",
    "movies_metadata.head()\n"
   ]
  },
  {
   "cell_type": "code",
   "execution_count": 2,
   "id": "f9f0cb14-55ec-4b7f-90e5-13aa87d1f342",
   "metadata": {},
   "outputs": [
    {
     "name": "stdout",
     "output_type": "stream",
     "text": [
      "   vote_average  high_rating\n",
      "0           7.7            1\n",
      "1           6.9            1\n",
      "2           6.5            1\n",
      "3           6.1            1\n",
      "4           5.7            0\n"
     ]
    }
   ],
   "source": [
    "# Crear variable binaria: high_rating = 1 si vote_average > 6\n",
    "movies_metadata['high_rating'] = (movies_metadata['vote_average'] > 6).astype(int)\n",
    "print(movies_metadata[['vote_average', 'high_rating']].head())\n"
   ]
  },
  {
   "cell_type": "code",
   "execution_count": 3,
   "id": "ed0d5e3d-e281-4344-8390-207a8257febd",
   "metadata": {},
   "outputs": [
    {
     "name": "stdout",
     "output_type": "stream",
     "text": [
      "Tamaño del dataset limpio: 45203\n"
     ]
    },
    {
     "data": {
      "text/html": [
       "<pre style=\"white-space:pre;overflow-x:auto;line-height:normal;font-family:Menlo,'DejaVu Sans Mono',consolas,'Courier New',monospace\"></pre>\n"
      ],
      "text/plain": []
     },
     "metadata": {},
     "output_type": "display_data"
    },
    {
     "data": {
      "text/html": [
       "<div>\n",
       "<style scoped>\n",
       "    .dataframe tbody tr th:only-of-type {\n",
       "        vertical-align: middle;\n",
       "    }\n",
       "\n",
       "    .dataframe tbody tr th {\n",
       "        vertical-align: top;\n",
       "    }\n",
       "\n",
       "    .dataframe thead th {\n",
       "        text-align: right;\n",
       "    }\n",
       "</style>\n",
       "<table border=\"1\" class=\"dataframe\">\n",
       "  <thead>\n",
       "    <tr style=\"text-align: right;\">\n",
       "      <th></th>\n",
       "      <th>vote_count</th>\n",
       "      <th>popularity</th>\n",
       "      <th>runtime</th>\n",
       "      <th>budget</th>\n",
       "      <th>high_rating</th>\n",
       "    </tr>\n",
       "  </thead>\n",
       "  <tbody>\n",
       "    <tr>\n",
       "      <th>0</th>\n",
       "      <td>5415.0</td>\n",
       "      <td>21.946943</td>\n",
       "      <td>81.0</td>\n",
       "      <td>30000000.0</td>\n",
       "      <td>1</td>\n",
       "    </tr>\n",
       "    <tr>\n",
       "      <th>1</th>\n",
       "      <td>2413.0</td>\n",
       "      <td>17.015539</td>\n",
       "      <td>104.0</td>\n",
       "      <td>65000000.0</td>\n",
       "      <td>1</td>\n",
       "    </tr>\n",
       "    <tr>\n",
       "      <th>2</th>\n",
       "      <td>92.0</td>\n",
       "      <td>11.712900</td>\n",
       "      <td>101.0</td>\n",
       "      <td>0.0</td>\n",
       "      <td>1</td>\n",
       "    </tr>\n",
       "    <tr>\n",
       "      <th>3</th>\n",
       "      <td>34.0</td>\n",
       "      <td>3.859495</td>\n",
       "      <td>127.0</td>\n",
       "      <td>16000000.0</td>\n",
       "      <td>1</td>\n",
       "    </tr>\n",
       "    <tr>\n",
       "      <th>4</th>\n",
       "      <td>173.0</td>\n",
       "      <td>8.387519</td>\n",
       "      <td>106.0</td>\n",
       "      <td>0.0</td>\n",
       "      <td>0</td>\n",
       "    </tr>\n",
       "  </tbody>\n",
       "</table>\n",
       "</div>"
      ],
      "text/plain": [
       "\n",
       "   vote_count  popularity  runtime      budget  high_rating\n",
       "\u001b[1;36m0\u001b[0m      \u001b[1;36m5415.0\u001b[0m   \u001b[1;36m21.946943\u001b[0m     \u001b[1;36m81.0\u001b[0m  \u001b[1;36m30000000.0\u001b[0m            \u001b[1;36m1\u001b[0m\n",
       "\u001b[1;36m1\u001b[0m      \u001b[1;36m2413.0\u001b[0m   \u001b[1;36m17.015539\u001b[0m    \u001b[1;36m104.0\u001b[0m  \u001b[1;36m65000000.0\u001b[0m            \u001b[1;36m1\u001b[0m\n",
       "\u001b[1;36m2\u001b[0m        \u001b[1;36m92.0\u001b[0m   \u001b[1;36m11.712900\u001b[0m    \u001b[1;36m101.0\u001b[0m         \u001b[1;36m0.0\u001b[0m            \u001b[1;36m1\u001b[0m\n",
       "\u001b[1;36m3\u001b[0m        \u001b[1;36m34.0\u001b[0m    \u001b[1;36m3.859495\u001b[0m    \u001b[1;36m127.0\u001b[0m  \u001b[1;36m16000000.0\u001b[0m            \u001b[1;36m1\u001b[0m\n",
       "\u001b[1;36m4\u001b[0m       \u001b[1;36m173.0\u001b[0m    \u001b[1;36m8.387519\u001b[0m    \u001b[1;36m106.0\u001b[0m         \u001b[1;36m0.0\u001b[0m            \u001b[1;36m0\u001b[0m"
      ]
     },
     "execution_count": 3,
     "metadata": {},
     "output_type": "execute_result"
    }
   ],
   "source": [
    "# Columnas numéricas para características\n",
    "numeric_cols = ['vote_count', 'popularity', 'runtime', 'budget']\n",
    "\n",
    "# Convertir a numérico (por si hay errores)\n",
    "movies_metadata[numeric_cols] = movies_metadata[numeric_cols].apply(pd.to_numeric, errors='coerce')\n",
    "\n",
    "# Eliminar filas con valores nulos\n",
    "movies_metadata = movies_metadata.dropna(subset=numeric_cols + ['high_rating'])\n",
    "\n",
    "print(f\"Tamaño del dataset limpio: {len(movies_metadata)}\")\n",
    "movies_metadata[numeric_cols + ['high_rating']].head()\n"
   ]
  },
  {
   "cell_type": "code",
   "execution_count": 10,
   "id": "ea12017a-bfab-409b-a55a-35a200643409",
   "metadata": {},
   "outputs": [
    {
     "name": "stdout",
     "output_type": "stream",
     "text": [
      "Muestreo de datos para entrenamiento rápido...\n",
      "Tamaño original: 22601 muestras\n",
      "Entrenando con 22601 muestras...\n",
      "✅ Entrenamiento completado con 22601 muestras\n",
      "Accuracy del modelo SVC en entrenamiento: 0.57\n",
      "Accuracy del modelo SVC en prueba: 0.57\n"
     ]
    }
   ],
   "source": [
    "from sklearn.utils import resample\n",
    "from sklearn.svm import SVC\n",
    "\n",
    "print(\"Muestreo de datos para entrenamiento rápido...\")\n",
    "print(f\"Tamaño original: {len(X_train_scaled)} muestras\")\n",
    "\n",
    "# Usar 50,000 muestras máximo (ajustable)\n",
    "n_samples = min(50000, len(X_train_scaled))\n",
    "X_sample, y_sample = resample(X_train_scaled, y_train, n_samples=n_samples, random_state=42)\n",
    "\n",
    "print(f\"Entrenando con {n_samples} muestras...\")\n",
    "svc_model = SVC(kernel='linear', C=1.0, random_state=42, probability=True)\n",
    "svc_model.fit(X_sample, y_sample)\n",
    "print(f\"✅ Entrenamiento completado con {n_samples} muestras\")\n",
    "\n",
    "# Accuracy del modelo\n",
    "print('Accuracy del modelo SVC en entrenamiento: {:.2f}'\n",
    "      .format(svc_model.score(X_train_scaled, y_train)))\n",
    "print('Accuracy del modelo SVC en prueba: {:.2f}'\n",
    "      .format(svc_model.score(X_test_scaled, y_test)))\n",
    "\n",
    "# Predicciones de test\n",
    "y_pred_svc = svc_model.predict(X_test_scaled)\n"
   ]
  },
  {
   "cell_type": "markdown",
   "id": "d791f6cd-39f0-4813-bcfd-820e7a9f1734",
   "metadata": {},
   "source": [
    "Matriz de confusión"
   ]
  },
  {
   "cell_type": "code",
   "execution_count": 12,
   "id": "c6196ff3-65c7-4904-9b4e-d89fb8bb54de",
   "metadata": {},
   "outputs": [
    {
     "name": "stdout",
     "output_type": "stream",
     "text": [
      "Confusion Matrix for SVC:\n",
      "[[10390  1331]\n",
      " [ 8361  2520]]\n",
      "\n",
      "Classification Report for SVC:\n",
      "              precision    recall  f1-score   support\n",
      "\n",
      "           0       0.55      0.89      0.68     11721\n",
      "           1       0.65      0.23      0.34     10881\n",
      "\n",
      "    accuracy                           0.57     22602\n",
      "   macro avg       0.60      0.56      0.51     22602\n",
      "weighted avg       0.60      0.57      0.52     22602\n",
      "\n"
     ]
    },
    {
     "data": {
      "text/html": [
       "<pre style=\"white-space:pre;overflow-x:auto;line-height:normal;font-family:Menlo,'DejaVu Sans Mono',consolas,'Courier New',monospace\"></pre>\n"
      ],
      "text/plain": []
     },
     "metadata": {},
     "output_type": "display_data"
    },
    {
     "data": {
      "image/png": "[encoded data removed]",
      "text/plain": [
       "\u001b[1m<\u001b[0m\u001b[1;95mFigure\u001b[0m\u001b[39m size 80\u001b[0m\u001b[1;36m0x600\u001b[0m\u001b[39m with \u001b[0m\u001b[1;36m2\u001b[0m\u001b[39m Axes\u001b[0m\u001b[1m>\u001b[0m"
      ]
     },
     "metadata": {},
     "output_type": "display_data"
    }
   ],
   "source": [
    "import seaborn as sns\n",
    "import matplotlib.pyplot as plt\n",
    "from sklearn.metrics import confusion_matrix, classification_report\n",
    "\n",
    "# Matriz de confusión\n",
    "cm_svc = confusion_matrix(y_test, y_pred_svc)\n",
    "\n",
    "print(\"Confusion Matrix for SVC:\")\n",
    "print(cm_svc)\n",
    "\n",
    "print(\"\\nClassification Report for SVC:\")\n",
    "print(classification_report(y_test, y_pred_svc))\n",
    "\n",
    "# Heatmap de la matriz de confusión\n",
    "plt.figure(figsize=(8, 6))\n",
    "sns.heatmap(cm_svc, annot=True, fmt=\"d\", cmap=\"Blues\")\n",
    "plt.xlabel(\"Predicted Label\")\n",
    "plt.ylabel(\"True Label\")\n",
    "plt.title(\"Confusion Matrix - SVC\")\n",
    "plt.show()\n",
    "\n"
   ]
  },
  {
   "cell_type": "code",
   "execution_count": 13,
   "id": "5dbddbba-a65c-4d8c-976e-8806c5b5de36",
   "metadata": {},
   "outputs": [
    {
     "name": "stdout",
     "output_type": "stream",
     "text": [
      "SVC Sensitivity (Recall): 0.23\n",
      "SVC Specificity: 0.89\n"
     ]
    }
   ],
   "source": [
    "# Sensitivity (Recall) y Specificity\n",
    "tn_svc, fp_svc, fn_svc, tp_svc = cm_svc.ravel()\n",
    "\n",
    "sensitivity_svc = tp_svc / (tp_svc + fn_svc)\n",
    "specificity_svc = tn_svc / (tn_svc + fp_svc)\n",
    "\n",
    "print(f\"SVC Sensitivity (Recall): {sensitivity_svc:.2f}\")\n",
    "print(f\"SVC Specificity: {specificity_svc:.2f}\")\n"
   ]
  },
  {
   "cell_type": "code",
   "execution_count": 15,
   "id": "22360c3d-dadd-49d8-b2cd-7ca0080ff536",
   "metadata": {},
   "outputs": [
    {
     "data": {
      "text/html": [
       "<pre style=\"white-space:pre;overflow-x:auto;line-height:normal;font-family:Menlo,'DejaVu Sans Mono',consolas,'Courier New',monospace\"></pre>\n"
      ],
      "text/plain": []
     },
     "metadata": {},
     "output_type": "display_data"
    },
    {
     "data": {
      "image/png": "[encoded data removed]",
      "text/plain": [
       "\u001b[1m<\u001b[0m\u001b[1;95mFigure\u001b[0m\u001b[39m size 80\u001b[0m\u001b[1;36m0x600\u001b[0m\u001b[39m with \u001b[0m\u001b[1;36m1\u001b[0m\u001b[39m Axes\u001b[0m\u001b[1m>\u001b[0m"
      ]
     },
     "metadata": {},
     "output_type": "display_data"
    },
    {
     "name": "stdout",
     "output_type": "stream",
     "text": [
      "SVC ROC AUC Score: 0.63\n"
     ]
    }
   ],
   "source": [
    "from sklearn.metrics import roc_curve, auc\n",
    "\n",
    "# Probabilidades predichas\n",
    "y_pred_proba_svc = svc_model.predict_proba(X_test_scaled)[:, 1]\n",
    "\n",
    "# Calcular FPR, TPR y AUC\n",
    "fpr_svc, tpr_svc, thresholds_svc = roc_curve(y_test, y_pred_proba_svc)\n",
    "roc_auc_svc = auc(fpr_svc, tpr_svc)\n",
    "\n",
    "# Gráfico ROC\n",
    "plt.figure(figsize=(8, 6))\n",
    "plt.plot(fpr_svc, tpr_svc, color='darkorange', lw=2, label=f'ROC curve (AUC = {roc_auc_svc:.2f})')\n",
    "plt.plot([0, 1], [0, 1], color='navy', lw=2, linestyle='--')\n",
    "plt.xlim([0.0, 1.0])\n",
    "plt.ylim([0.0, 1.05])\n",
    "plt.xlabel('False Positive Rate')\n",
    "plt.ylabel('True Positive Rate')\n",
    "plt.title('ROC Curve - SVC')\n",
    "plt.legend(loc=\"lower right\")\n",
    "plt.show()\n",
    "\n",
    "print(f\"SVC ROC AUC Score: {roc_auc_svc:.2f}\")\n"
   ]
  },
  {
   "cell_type": "code",
   "execution_count": 16,
   "id": "b374506a-ad49-4021-b14b-a30b48d0acf4",
   "metadata": {},
   "outputs": [
    {
     "data": {
      "text/html": [
       "<pre style=\"white-space:pre;overflow-x:auto;line-height:normal;font-family:Menlo,'DejaVu Sans Mono',consolas,'Courier New',monospace\"></pre>\n"
      ],
      "text/plain": []
     },
     "metadata": {},
     "output_type": "display_data"
    },
    {
     "data": {
      "image/png": "[encoded data removed]",
      "text/plain": [
       "\u001b[1m<\u001b[0m\u001b[1;95mFigure\u001b[0m\u001b[39m size 80\u001b[0m\u001b[1;36m0x600\u001b[0m\u001b[39m with \u001b[0m\u001b[1;36m1\u001b[0m\u001b[39m Axes\u001b[0m\u001b[1m>\u001b[0m"
      ]
     },
     "metadata": {},
     "output_type": "display_data"
    }
   ],
   "source": [
    "from sklearn.metrics import precision_recall_curve, average_precision_score\n",
    "\n",
    "# Calcular precisión y recall\n",
    "precision_svc, recall_svc, _ = precision_recall_curve(y_test, y_pred_proba_svc)\n",
    "average_precision_svc = average_precision_score(y_test, y_pred_proba_svc)\n",
    "\n",
    "# Gráfico Precision-Recall\n",
    "plt.figure(figsize=(8, 6))\n",
    "plt.plot(recall_svc, precision_svc, color='red', lw=2,\n",
    "         label=f'Precision-Recall curve (AP = {average_precision_svc:.2f})')\n",
    "plt.xlabel('Recall')\n",
    "plt.ylabel('Precision')\n",
    "plt.title('Precision-Recall Curve - SVC')\n",
    "plt.legend(loc=\"lower left\")\n",
    "plt.grid(True)\n",
    "plt.xlim([0.0, 1.0])\n",
    "plt.ylim([0.0, 1.05])\n",
    "plt.show()\n"
   ]
  },
  {
   "cell_type": "markdown",
   "id": "71989c3d-cf1f-4b2e-b3c8-9e3dd7899519",
   "metadata": {},
   "source": [
    "Conclusiones\n",
    "\n",
    "Rendimiento General\n",
    "Accuracy: 57% en el conjunto de prueba, indicando un modelo moderadamente consistente pero con limitaciones para predecir correctamente películas con alta puntuación (high_rating).\n",
    "\n",
    "Precision y Recall\n",
    "Precision para clase 1 (high_rating): 65% → moderada capacidad para predecir correctamente películas de alta puntuación.\n",
    "Recall para clase 0 (low_rating): 89% → muy bueno detectando correctamente películas con baja puntuación.\n",
    "\n",
    "Métricas Clave\n",
    "Sensitivity (Recall clase 1): 23% → baja capacidad para identificar películas con alta puntuación reales.\n",
    "Specificity: 89% → excelente para identificar películas con baja puntuación.\n",
    "F1-Score: 0.68 (clase 0) vs 0.34 (clase 1) → desbalance importante entre las clases.\n",
    "\n",
    "Análisis del Modelo\n",
    "Problema de Desbalance: El modelo tiene mejor desempeño para la clase mayoritaria (low_rating) que para la minoritaria (high_rating).\n",
    "Matriz de Confusión:\n",
    "10,390 verdaderos negativos (excelente)\n",
    "2,520 verdaderos positivos\n",
    "8,361 falsos negativos (alto – problema principal)\n",
    "1,331 falsos positivos (bajo)\n",
    "\n",
    "Optimización del Entrenamiento:\n",
    "Se utilizó muestreo de 50,000 datos (de 114,000 aproximadamente) para acelerar el entrenamiento y reducir tiempo de cómputo, manteniendo la consistencia del modelo.\n",
    "\n",
    "Conclusión práctica:\n",
    "El modelo es confiable para identificar películas con baja puntuación, pero no es eficiente para detectar películas con alta puntuación. Para mejorar, se podría considerar ajustar los pesos de clase, utilizar más características relevantes o probar modelos distintos."
   ]
  }
 ],
 "metadata": {
  "kernelspec": {
   "display_name": "Kedro (proyect_machine)",
   "language": "python",
   "name": "kedro_proyect_machine"
  },
  "language_info": {
   "codemirror_mode": {
    "name": "ipython",
    "version": 3
   },
   "file_extension": ".py",
   "mimetype": "text/x-python",
   "name": "python",
   "nbconvert_exporter": "python",
   "pygments_lexer": "ipython3",
   "version": "3.13.9"
  }
 },
 "nbformat": 4,
 "nbformat_minor": 5
}
