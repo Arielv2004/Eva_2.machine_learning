{
 "cells": [
  {
   "cell_type": "code",
   "execution_count": 1,
   "id": "3b0b573a-9c5f-41dc-a52d-93b035ac8fba",
   "metadata": {},
   "outputs": [
    {
     "name": "stdout",
     "output_type": "stream",
     "text": [
      "The kedro.ipython extension is already loaded. To reload it, use:\n",
      "  %reload_ext kedro.ipython\n"
     ]
    }
   ],
   "source": [
    "# Importar librerías necesarias\n",
    "import pandas as pd\n",
    "import numpy as np\n",
    "from sklearn.model_selection import train_test_split, GridSearchCV\n",
    "from sklearn.ensemble import RandomForestRegressor\n",
    "from sklearn.metrics import r2_score, mean_squared_error, mean_absolute_error\n",
    "from sklearn.preprocessing import LabelEncoder\n",
    "import matplotlib.pyplot as plt\n",
    "import seaborn as sns\n",
    "\n",
    "# Configurar estilo de gráficos\n",
    "plt.style.use('seaborn-v0_8')\n",
    "sns.set_palette(\"husl\")\n",
    "# Cargar extensión de Kedro\n",
    "%load_ext kedro.ipython"
   ]
  },
  {
   "cell_type": "code",
   "execution_count": 2,
   "id": "d7e37731-8a66-4e28-a503-6d6aa7296c07",
   "metadata": {},
   "outputs": [
    {
     "data": {
      "text/html": [
       "<pre style=\"white-space:pre;overflow-x:auto;line-height:normal;font-family:Menlo,'DejaVu Sans Mono',consolas,'Courier New',monospace\"><span style=\"color: #7fbfbf; text-decoration-color: #7fbfbf\">[11/01/25 11:44:59] </span><span style=\"color: #000080; text-decoration-color: #000080\">INFO    </span> Loading data from <span style=\"color: #ff8700; text-decoration-color: #ff8700\">movies_metadata</span> <span style=\"font-weight: bold\">(</span>CSVDataset<span style=\"font-weight: bold\">)</span><span style=\"color: #808000; text-decoration-color: #808000\">...</span>                 <a href=\"file://C:\\Users\\ariel\\OneDrive\\Desktop\\Machine\\proyect-machine\\venv\\Lib\\site-packages\\kedro\\io\\data_catalog.py\" target=\"_blank\"><span style=\"color: #7f7f7f; text-decoration-color: #7f7f7f\">data_catalog.py</span></a><span style=\"color: #7f7f7f; text-decoration-color: #7f7f7f\">:</span><a href=\"file://C:\\Users\\ariel\\OneDrive\\Desktop\\Machine\\proyect-machine\\venv\\Lib\\site-packages\\kedro\\io\\data_catalog.py#1046\" target=\"_blank\"><span style=\"color: #7f7f7f; text-decoration-color: #7f7f7f\">1046</span></a>\n",
       "</pre>\n"
      ],
      "text/plain": [
       "\u001b[2;36m[11/01/25 11:44:59]\u001b[0m\u001b[2;36m \u001b[0m\u001b[34mINFO    \u001b[0m Loading data from \u001b[38;5;208mmovies_metadata\u001b[0m \u001b[1m(\u001b[0mCSVDataset\u001b[1m)\u001b[0m\u001b[33m...\u001b[0m                 \u001b]8;id=55691;file://C:\\Users\\ariel\\OneDrive\\Desktop\\Machine\\proyect-machine\\venv\\Lib\\site-packages\\kedro\\io\\data_catalog.py\u001b\\\u001b[2mdata_catalog.py\u001b[0m\u001b]8;;\u001b\\\u001b[2m:\u001b[0m\u001b]8;id=10810;file://C:\\Users\\ariel\\OneDrive\\Desktop\\Machine\\proyect-machine\\venv\\Lib\\site-packages\\kedro\\io\\data_catalog.py#1046\u001b\\\u001b[2m1046\u001b[0m\u001b]8;;\u001b\\\n"
      ]
     },
     "metadata": {},
     "output_type": "display_data"
    },
    {
     "data": {
      "text/html": [
       "<pre style=\"white-space:pre;overflow-x:auto;line-height:normal;font-family:Menlo,'DejaVu Sans Mono',consolas,'Courier New',monospace\"><span style=\"color: #7fbfbf; text-decoration-color: #7fbfbf\">[11/01/25 11:45:00] </span><span style=\"color: #000080; text-decoration-color: #000080\">INFO    </span> Loading data from <span style=\"color: #ff8700; text-decoration-color: #ff8700\">credits</span> <span style=\"font-weight: bold\">(</span>CSVDataset<span style=\"font-weight: bold\">)</span><span style=\"color: #808000; text-decoration-color: #808000\">...</span>                         <a href=\"file://C:\\Users\\ariel\\OneDrive\\Desktop\\Machine\\proyect-machine\\venv\\Lib\\site-packages\\kedro\\io\\data_catalog.py\" target=\"_blank\"><span style=\"color: #7f7f7f; text-decoration-color: #7f7f7f\">data_catalog.py</span></a><span style=\"color: #7f7f7f; text-decoration-color: #7f7f7f\">:</span><a href=\"file://C:\\Users\\ariel\\OneDrive\\Desktop\\Machine\\proyect-machine\\venv\\Lib\\site-packages\\kedro\\io\\data_catalog.py#1046\" target=\"_blank\"><span style=\"color: #7f7f7f; text-decoration-color: #7f7f7f\">1046</span></a>\n",
       "</pre>\n"
      ],
      "text/plain": [
       "\u001b[2;36m[11/01/25 11:45:00]\u001b[0m\u001b[2;36m \u001b[0m\u001b[34mINFO    \u001b[0m Loading data from \u001b[38;5;208mcredits\u001b[0m \u001b[1m(\u001b[0mCSVDataset\u001b[1m)\u001b[0m\u001b[33m...\u001b[0m                         \u001b]8;id=634620;file://C:\\Users\\ariel\\OneDrive\\Desktop\\Machine\\proyect-machine\\venv\\Lib\\site-packages\\kedro\\io\\data_catalog.py\u001b\\\u001b[2mdata_catalog.py\u001b[0m\u001b]8;;\u001b\\\u001b[2m:\u001b[0m\u001b]8;id=731122;file://C:\\Users\\ariel\\OneDrive\\Desktop\\Machine\\proyect-machine\\venv\\Lib\\site-packages\\kedro\\io\\data_catalog.py#1046\u001b\\\u001b[2m1046\u001b[0m\u001b]8;;\u001b\\\n"
      ]
     },
     "metadata": {},
     "output_type": "display_data"
    },
    {
     "data": {
      "text/html": [
       "<pre style=\"white-space:pre;overflow-x:auto;line-height:normal;font-family:Menlo,'DejaVu Sans Mono',consolas,'Courier New',monospace\"><span style=\"color: #7fbfbf; text-decoration-color: #7fbfbf\">[11/01/25 11:45:02] </span><span style=\"color: #000080; text-decoration-color: #000080\">INFO    </span> Loading data from <span style=\"color: #ff8700; text-decoration-color: #ff8700\">ratings</span> <span style=\"font-weight: bold\">(</span>CSVDataset<span style=\"font-weight: bold\">)</span><span style=\"color: #808000; text-decoration-color: #808000\">...</span>                         <a href=\"file://C:\\Users\\ariel\\OneDrive\\Desktop\\Machine\\proyect-machine\\venv\\Lib\\site-packages\\kedro\\io\\data_catalog.py\" target=\"_blank\"><span style=\"color: #7f7f7f; text-decoration-color: #7f7f7f\">data_catalog.py</span></a><span style=\"color: #7f7f7f; text-decoration-color: #7f7f7f\">:</span><a href=\"file://C:\\Users\\ariel\\OneDrive\\Desktop\\Machine\\proyect-machine\\venv\\Lib\\site-packages\\kedro\\io\\data_catalog.py#1046\" target=\"_blank\"><span style=\"color: #7f7f7f; text-decoration-color: #7f7f7f\">1046</span></a>\n",
       "</pre>\n"
      ],
      "text/plain": [
       "\u001b[2;36m[11/01/25 11:45:02]\u001b[0m\u001b[2;36m \u001b[0m\u001b[34mINFO    \u001b[0m Loading data from \u001b[38;5;208mratings\u001b[0m \u001b[1m(\u001b[0mCSVDataset\u001b[1m)\u001b[0m\u001b[33m...\u001b[0m                         \u001b]8;id=587831;file://C:\\Users\\ariel\\OneDrive\\Desktop\\Machine\\proyect-machine\\venv\\Lib\\site-packages\\kedro\\io\\data_catalog.py\u001b\\\u001b[2mdata_catalog.py\u001b[0m\u001b]8;;\u001b\\\u001b[2m:\u001b[0m\u001b]8;id=342806;file://C:\\Users\\ariel\\OneDrive\\Desktop\\Machine\\proyect-machine\\venv\\Lib\\site-packages\\kedro\\io\\data_catalog.py#1046\u001b\\\u001b[2m1046\u001b[0m\u001b]8;;\u001b\\\n"
      ]
     },
     "metadata": {},
     "output_type": "display_data"
    }
   ],
   "source": [
    "movies_metadata = catalog.load(\"movies_metadata\")\n",
    "credits = catalog.load(\"credits\")\n",
    "ratings = catalog.load(\"ratings\")\n"
   ]
  },
  {
   "cell_type": "code",
   "execution_count": 3,
   "id": "14cbe620-f0fc-4be6-b780-61ce3da315fa",
   "metadata": {},
   "outputs": [
    {
     "name": "stdout",
     "output_type": "stream",
     "text": [
      "   adult                              belongs_to_collection    budget  \\\n",
      "0  False  {'id': 10194, 'name': 'Toy Story Collection', ...  30000000   \n",
      "1  False                                                NaN  65000000   \n",
      "2  False  {'id': 119050, 'name': 'Grumpy Old Men Collect...         0   \n",
      "3  False                                                NaN  16000000   \n",
      "4  False  {'id': 96871, 'name': 'Father of the Bride Col...         0   \n",
      "\n",
      "                                              genres  \\\n",
      "0  [{'id': 16, 'name': 'Animation'}, {'id': 35, '...   \n",
      "1  [{'id': 12, 'name': 'Adventure'}, {'id': 14, '...   \n",
      "2  [{'id': 10749, 'name': 'Romance'}, {'id': 35, ...   \n",
      "3  [{'id': 35, 'name': 'Comedy'}, {'id': 18, 'nam...   \n",
      "4                     [{'id': 35, 'name': 'Comedy'}]   \n",
      "\n",
      "                               homepage     id    imdb_id original_language  \\\n",
      "0  http://toystory.disney.com/toy-story    862  tt0114709                en   \n",
      "1                                   NaN   8844  tt0113497                en   \n",
      "2                                   NaN  15602  tt0113228                en   \n",
      "3                                   NaN  31357  tt0114885                en   \n",
      "4                                   NaN  11862  tt0113041                en   \n",
      "\n",
      "                original_title  \\\n",
      "0                    Toy Story   \n",
      "1                      Jumanji   \n",
      "2             Grumpier Old Men   \n",
      "3            Waiting to Exhale   \n",
      "4  Father of the Bride Part II   \n",
      "\n",
      "                                            overview  ... release_date  \\\n",
      "0  Led by Woody, Andy's toys live happily in his ...  ...   1995-10-30   \n",
      "1  When siblings Judy and Peter discover an encha...  ...   1995-12-15   \n",
      "2  A family wedding reignites the ancient feud be...  ...   1995-12-22   \n",
      "3  Cheated on, mistreated and stepped on, the wom...  ...   1995-12-22   \n",
      "4  Just when George Banks has recovered from his ...  ...   1995-02-10   \n",
      "\n",
      "       revenue runtime                                   spoken_languages  \\\n",
      "0  373554033.0    81.0           [{'iso_639_1': 'en', 'name': 'English'}]   \n",
      "1  262797249.0   104.0  [{'iso_639_1': 'en', 'name': 'English'}, {'iso...   \n",
      "2          0.0   101.0           [{'iso_639_1': 'en', 'name': 'English'}]   \n",
      "3   81452156.0   127.0           [{'iso_639_1': 'en', 'name': 'English'}]   \n",
      "4   76578911.0   106.0           [{'iso_639_1': 'en', 'name': 'English'}]   \n",
      "\n",
      "     status                                            tagline  \\\n",
      "0  Released                                                NaN   \n",
      "1  Released          Roll the dice and unleash the excitement!   \n",
      "2  Released  Still Yelling. Still Fighting. Still Ready for...   \n",
      "3  Released  Friends are the people who let you be yourself...   \n",
      "4  Released  Just When His World Is Back To Normal... He's ...   \n",
      "\n",
      "                         title  video vote_average vote_count  \n",
      "0                    Toy Story  False          7.7     5415.0  \n",
      "1                      Jumanji  False          6.9     2413.0  \n",
      "2             Grumpier Old Men  False          6.5       92.0  \n",
      "3            Waiting to Exhale  False          6.1       34.0  \n",
      "4  Father of the Bride Part II  False          5.7      173.0  \n",
      "\n",
      "[5 rows x 24 columns]\n",
      "                                                cast  \\\n",
      "0  [{'cast_id': 14, 'character': 'Woody (voice)',...   \n",
      "1  [{'cast_id': 1, 'character': 'Alan Parrish', '...   \n",
      "2  [{'cast_id': 2, 'character': 'Max Goldman', 'c...   \n",
      "3  [{'cast_id': 1, 'character': \"Savannah 'Vannah...   \n",
      "4  [{'cast_id': 1, 'character': 'George Banks', '...   \n",
      "\n",
      "                                                crew     id  \n",
      "0  [{'credit_id': '52fe4284c3a36847f8024f49', 'de...    862  \n",
      "1  [{'credit_id': '52fe44bfc3a36847f80a7cd1', 'de...   8844  \n",
      "2  [{'credit_id': '52fe466a9251416c75077a89', 'de...  15602  \n",
      "3  [{'credit_id': '52fe44779251416c91011acb', 'de...  31357  \n",
      "4  [{'credit_id': '52fe44959251416c75039ed7', 'de...  11862  \n",
      "   userId  movieId  rating   timestamp\n",
      "0       1      110     1.0  1425941529\n",
      "1       1      147     4.5  1425942435\n",
      "2       1      858     5.0  1425941523\n",
      "3       1     1221     5.0  1425941546\n",
      "4       1     1246     5.0  1425941556\n"
     ]
    }
   ],
   "source": [
    "print(movies_metadata.head())\n",
    "print(credits.head())\n",
    "print(ratings.head())"
   ]
  },
  {
   "cell_type": "code",
   "execution_count": 4,
   "id": "b7277ec1-e740-4528-86e0-192bc349b47e",
   "metadata": {},
   "outputs": [
    {
     "name": "stdout",
     "output_type": "stream",
     "text": [
      "vote_count      1.000000\n",
      "revenue         0.812022\n",
      "vote_average    0.123607\n",
      "runtime         0.113539\n",
      "Name: vote_count, dtype: float64\n"
     ]
    }
   ],
   "source": [
    "# Seleccionar solo columnas numéricas\n",
    "numeric_cols = movies_metadata.select_dtypes(include=['float64', 'int64'])\n",
    "\n",
    "# Calcular correlación con vote_count\n",
    "correlations = numeric_cols.corr()['vote_count'].sort_values(ascending=False)\n",
    "print(correlations)"
   ]
  },
  {
   "cell_type": "code",
   "execution_count": 5,
   "id": "a188d598-a68c-4891-9492-07ee0909ff4b",
   "metadata": {},
   "outputs": [
    {
     "name": "stdout",
     "output_type": "stream",
     "text": [
      "RESULTADOS MODELO RANDOM FOREST\n",
      "==================================================\n",
      "MSE: 52539.2697\n",
      "MAE: 53.1358\n",
      "RMSE: 229.2145\n",
      "R²: 0.8047\n"
     ]
    }
   ],
   "source": [
    "# Modelo Random Forest \n",
    "\n",
    "# Convertir columnas numéricas\n",
    "numeric_cols = ['revenue', 'budget', 'popularity', 'runtime', 'vote_average', 'vote_count']\n",
    "for c in numeric_cols:\n",
    "    movies_metadata[c] = pd.to_numeric(movies_metadata[c], errors='coerce')\n",
    "\n",
    "# Eliminar filas con nulos en columnas importantes\n",
    "movies_metadata = movies_metadata.dropna(subset=numeric_cols + ['status'])\n",
    "\n",
    "# Codificación de la variable categórica 'status'\n",
    "status_dummies = pd.get_dummies(movies_metadata['status'], drop_first=True)\n",
    "\n",
    "# Variables predictoras\n",
    "X = movies_metadata[['revenue', 'budget', 'popularity', 'runtime', 'vote_average']]\n",
    "X = pd.concat([X, status_dummies], axis=1)\n",
    "\n",
    "# Variable objetivo\n",
    "y = movies_metadata['vote_count']\n",
    "\n",
    "# Dividir en training y testing\n",
    "X_train, X_test, y_train, y_test = train_test_split(X, y, test_size=0.5, random_state=42)\n",
    "\n",
    "# Entrenamiento del modelo Random Forest\n",
    "model = RandomForestRegressor(\n",
    "    n_estimators=100,\n",
    "    max_depth=10,\n",
    "    min_samples_split=20,\n",
    "    min_samples_leaf=10,\n",
    "    random_state=42,\n",
    "    n_jobs=-1\n",
    ")\n",
    "\n",
    "model.fit(X_train, y_train)\n",
    "y_pred = model.predict(X_test)\n",
    "\n",
    "# Métricas del modelo\n",
    "r2 = r2_score(y_test, y_pred)\n",
    "mse = mean_squared_error(y_test, y_pred)\n",
    "rmse = np.sqrt(mse)\n",
    "mae = mean_absolute_error(y_test, y_pred)\n",
    "\n",
    "print(\"RESULTADOS MODELO RANDOM FOREST\")\n",
    "print(\"=\"*50)\n",
    "print(f\"MSE: {mse:.4f}\")\n",
    "print(f\"MAE: {mae:.4f}\")\n",
    "print(f\"RMSE: {rmse:.4f}\")\n",
    "print(f\"R²: {r2:.4f}\")\n",
    "\n"
   ]
  },
  {
   "cell_type": "code",
   "execution_count": 7,
   "id": "77c8139e-a3da-4334-ab59-891f9aacfb60",
   "metadata": {},
   "outputs": [
    {
     "name": "stdout",
     "output_type": "stream",
     "text": [
      "OPTIMIZANDO HIPERPARÁMETROS...\n",
      "Fitting 3 folds for each of 24 candidates, totalling 72 fits\n",
      "GridSearchCV completado.\n",
      "\n",
      " MEJORES HIPERPARÁMETROS ENCONTRADOS:\n",
      "  max_depth: 10\n",
      "  min_samples_leaf: 5\n",
      "  min_samples_split: 10\n",
      "  n_estimators: 100\n",
      "\n",
      "Mejor score validación cruzada (R²): 0.7806\n",
      "\n",
      "RESULTADOS MEJOR MODELO EN TEST:\n",
      "MSE: 50797.5375\n",
      "MAE: 52.8004\n",
      "RMSE: 225.3831\n",
      "R²: 0.8112\n",
      " COMPARACIÓN: MODELO BASE vs OPTIMIZADO\n",
      "=======================================================\n",
      "Métrica      Base         Optimizado   Mejora    \n",
      "-------------------------------------------------------\n",
      "R²           0.8047      0.8112       +0.0065\n",
      "MSE          52539.2697      50797.5375       -1741.7322\n",
      "MAE          53.1358      52.8004       -0.3353\n",
      "RMSE         229.2145      225.3831       -3.8314\n",
      " GridSearch mejoró ligeramente el modelo (+0.0065 R²)\n",
      " TOP CARACTERÍSTICAS MÁS IMPORTANTES:\n",
      "    Característica   Importancia\n",
      "0          revenue  7.030186e-01\n",
      "2       popularity  1.733499e-01\n",
      "4     vote_average  8.017138e-02\n",
      "1           budget  2.209255e-02\n",
      "3          runtime  2.136723e-02\n",
      "8         Released  3.605610e-07\n",
      "5    In Production  0.000000e+00\n",
      "6          Planned  0.000000e+00\n",
      "7  Post Production  0.000000e+00\n",
      "9          Rumored  0.000000e+00\n"
     ]
    },
    {
     "data": {
      "text/html": [
       "<pre style=\"white-space:pre;overflow-x:auto;line-height:normal;font-family:Menlo,'DejaVu Sans Mono',consolas,'Courier New',monospace\"></pre>\n"
      ],
      "text/plain": []
     },
     "metadata": {},
     "output_type": "display_data"
    },
    {
     "data": {
      "image/png": "[encoded data removed]",
      "text/plain": [
       "\u001b[1m<\u001b[0m\u001b[1;95mFigure\u001b[0m\u001b[39m size 100\u001b[0m\u001b[1;36m0x600\u001b[0m\u001b[39m with \u001b[0m\u001b[1;36m1\u001b[0m\u001b[39m Axes\u001b[0m\u001b[1m>\u001b[0m"
      ]
     },
     "metadata": {},
     "output_type": "display_data"
    }
   ],
   "source": [
    "from sklearn.ensemble import RandomForestRegressor\n",
    "from sklearn.model_selection import GridSearchCV\n",
    "from sklearn.metrics import mean_squared_error, mean_absolute_error, r2_score\n",
    "import matplotlib.pyplot as plt\n",
    "import numpy as np\n",
    "import pandas as pd\n",
    "\n",
    "# GridSearchCV para Random Forest\n",
    "print(\"OPTIMIZANDO HIPERPARÁMETROS...\")\n",
    "\n",
    "param_grid = {\n",
    "    'n_estimators': [50, 100],\n",
    "    'max_depth': [5, 10, None],\n",
    "    'min_samples_split': [10, 20],\n",
    "    'min_samples_leaf': [5, 10]\n",
    "}\n",
    "\n",
    "grid_search = GridSearchCV(\n",
    "    estimator=RandomForestRegressor(random_state=42, n_jobs=-1),\n",
    "    param_grid=param_grid,\n",
    "    cv=3,\n",
    "    scoring='r2',\n",
    "    n_jobs=-1,\n",
    "    verbose=2\n",
    ")\n",
    "\n",
    "grid_search.fit(X_train, y_train)\n",
    "\n",
    "# Evaluar el mejor modelo\n",
    "best_model = grid_search.best_estimator_\n",
    "y_pred_gs = best_model.predict(X_test)\n",
    "\n",
    "mse_gs = mean_squared_error(y_test, y_pred_gs)\n",
    "mae_gs = mean_absolute_error(y_test, y_pred_gs)\n",
    "rmse_gs = np.sqrt(mse_gs)\n",
    "r2_gs = r2_score(y_test, y_pred_gs)\n",
    "\n",
    "print(\"GridSearchCV completado.\")\n",
    "print(\"\\n MEJORES HIPERPARÁMETROS ENCONTRADOS:\")\n",
    "for param, value in grid_search.best_params_.items():\n",
    "    print(f\"  {param}: {value}\")\n",
    "\n",
    "print(f\"\\nMejor score validación cruzada (R²): {grid_search.best_score_:.4f}\")\n",
    "print(\"\\nRESULTADOS MEJOR MODELO EN TEST:\")\n",
    "print(f\"MSE: {mse_gs:.4f}\")\n",
    "print(f\"MAE: {mae_gs:.4f}\")\n",
    "print(f\"RMSE: {rmse_gs:.4f}\")\n",
    "print(f\"R²: {r2_gs:.4f}\")\n",
    "\n",
    "# Comparación con modelo base\n",
    "print(\" COMPARACIÓN: MODELO BASE vs OPTIMIZADO\")\n",
    "print(\"=\" * 55)\n",
    "print(f\"{'Métrica':<12} {'Base':<12} {'Optimizado':<12} {'Mejora':<10}\")\n",
    "print(\"-\" * 55)\n",
    "print(f\"{'R²':<12} {r2:.4f}      {r2_gs:.4f}       {r2_gs - r2:+.4f}\")\n",
    "print(f\"{'MSE':<12} {mse:.4f}      {mse_gs:.4f}       {mse_gs - mse:+.4f}\")\n",
    "print(f\"{'MAE':<12} {mae:.4f}      {mae_gs:.4f}       {mae_gs - mae:+.4f}\")\n",
    "print(f\"{'RMSE':<12} {rmse:.4f}      {rmse_gs:.4f}       {rmse_gs - rmse:+.4f}\")\n",
    "\n",
    "improvement = r2_gs - r2\n",
    "if improvement > 0.01:\n",
    "    print(f\" Excelente! GridSearch mejoró significativamente el modelo (+{improvement:.4f} R²)\")\n",
    "elif improvement > 0:\n",
    "    print(f\" GridSearch mejoró ligeramente el modelo (+{improvement:.4f} R²)\")\n",
    "else:\n",
    "    print(f\" GridSearch no mejoró el modelo ({improvement:.4f} R²)\")\n",
    "\n",
    "\n",
    "# Análisis de Feature Importance\n",
    "importances = best_model.feature_importances_\n",
    "feature_names = X.columns\n",
    "\n",
    "feature_importance_df = pd.DataFrame({\n",
    "    'Característica': feature_names,\n",
    "    'Importancia': importances\n",
    "}).sort_values('Importancia', ascending=False)\n",
    "\n",
    "print(\" TOP CARACTERÍSTICAS MÁS IMPORTANTES:\")\n",
    "print(feature_importance_df)\n",
    "\n",
    "plt.figure(figsize=(10, 6))\n",
    "bars = plt.barh(\n",
    "    feature_importance_df['Característica'], \n",
    "    feature_importance_df['Importancia'],\n",
    "    color='skyblue'\n",
    ")\n",
    "plt.xlabel('Importancia')\n",
    "plt.title('Importancia de Características - Random Forest Optimizado')\n",
    "plt.gca().invert_yaxis()\n",
    "\n",
    "# Añadir valores\n",
    "for bar in bars:\n",
    "    width = bar.get_width()\n",
    "    plt.text(width + 0.001, bar.get_y() + bar.get_height()/2, \n",
    "             f'{width:.3f}', ha='left', va='center', fontsize=10)\n",
    "\n",
    "plt.tight_layout()\n",
    "plt.show()\n"
   ]
  },
  {
   "cell_type": "markdown",
   "id": "7f6fa5e3-c434-4de3-9c14-4a277f5725d9",
   "metadata": {},
   "source": [
    "Conclusiones – Random Forest (vote_count)\n",
    "Resultados del Modelo\n",
    "\n",
    "Rendimiento General:\n",
    "\n",
    "Modelo base: R² = 0.8047 → Explica 80.47% de la variabilidad de vote_count.\n",
    "GridSearchCV optimizado: R² = 0.8112 → Explica 81.12% de la variabilidad.\n",
    "\n",
    "Errores:\n",
    "\n",
    "Modelo base: MAE = 53.136, RMSE = 229.215\n",
    "Optimizado: MAE = 52.800, RMSE = 225.383\n",
    "Mejora con GridSearchCV: Incremento leve en R² (+0.0065), reducción ligera en errores.\n",
    "\n",
    "Fortalezas del Modelo\n",
    "\n",
    "Alto poder predictivo: R² > 0.8\n",
    "Errores bajos: MAE ≈ 52.8, RMSE ≈ 225.4\n",
    "Estabilidad: Buen desempeño entre entrenamiento y prueba.\n",
    "Interpretabilidad: Feature importance clara que permite identificar los factores clave que afectan el número de votos.\n",
    "\n",
    "Conclusión General\n",
    "\n",
    "Random Forest es un modelo sólido para predecir vote_count.\n",
    "La optimización mediante GridSearchCV mejoró ligeramente la precisión, pero el modelo base ya tenía un desempeño muy alto.\n",
    "El modelo es útil para análisis de tendencias de votación y para orientar estrategias de marketing basadas en revenue y popularity."
   ]
  }
 ],
 "metadata": {
  "kernelspec": {
   "display_name": "Kedro (proyect_machine)",
   "language": "python",
   "name": "kedro_proyect_machine"
  },
  "language_info": {
   "codemirror_mode": {
    "name": "ipython",
    "version": 3
   },
   "file_extension": ".py",
   "mimetype": "text/x-python",
   "name": "python",
   "nbconvert_exporter": "python",
   "pygments_lexer": "ipython3",
   "version": "3.13.9"
  }
 },
 "nbformat": 4,
 "nbformat_minor": 5
}
